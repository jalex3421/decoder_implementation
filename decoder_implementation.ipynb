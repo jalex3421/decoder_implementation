{
 "cells": [
  {
   "cell_type": "markdown",
   "metadata": {
    "id": "dED7z33VwTNh"
   },
   "source": [
    "# **Implementing a GPT-Like Language Model from Scratch in PyTorch**\n",
    "\n",
    "Author: Alejandro Meza Tudela"
   ]
  },
  {
   "cell_type": "markdown",
   "metadata": {
    "id": "A9AKquBnxJhQ"
   },
   "source": [
    "We are going to try to implement GPT architecture using such a good resource as:\n",
    "\n",
    "* **[Let's build GPT: from scratch, in code, spelled out]**  from Andrej Karpathy\n",
    "\n",
    "https://www.youtube.com/watch?v=kCc8FmEb1nY\n",
    "\n",
    "Specifically, we are going to try to implement the decoder of the transfomer architecture."
   ]
  },
  {
   "cell_type": "markdown",
   "metadata": {
    "id": "idMw5rnPx82v"
   },
   "source": [
    "## 1. Preparations for the implementation"
   ]
  },
  {
   "cell_type": "code",
   "execution_count": null,
   "metadata": {
    "execution": {
     "iopub.execute_input": "2025-02-09T07:44:11.781057Z",
     "iopub.status.busy": "2025-02-09T07:44:11.780761Z",
     "iopub.status.idle": "2025-02-09T07:44:14.920309Z",
     "shell.execute_reply": "2025-02-09T07:44:14.919410Z",
     "shell.execute_reply.started": "2025-02-09T07:44:11.781026Z"
    },
    "id": "MYR-SfInyZdr"
   },
   "outputs": [],
   "source": [
    "import torch"
   ]
  },
  {
   "cell_type": "code",
   "execution_count": null,
   "metadata": {
    "colab": {
     "base_uri": "https://localhost:8080/"
    },
    "execution": {
     "iopub.execute_input": "2025-02-09T07:44:14.921631Z",
     "iopub.status.busy": "2025-02-09T07:44:14.921200Z",
     "iopub.status.idle": "2025-02-09T07:44:15.265605Z",
     "shell.execute_reply": "2025-02-09T07:44:15.264501Z",
     "shell.execute_reply.started": "2025-02-09T07:44:14.921602Z"
    },
    "id": "vDRe70Z-wSKK",
    "outputId": "51528dca-ea7a-4e97-c1aa-cdc1ce9f180a"
   },
   "outputs": [
    {
     "name": "stdout",
     "output_type": "stream",
     "text": [
      "--2025-02-09 07:44:14--  https://raw.githubusercontent.com/karpathy/ng-video-lecture/refs/heads/master/input.txt\n",
      "Resolving raw.githubusercontent.com (raw.githubusercontent.com)... 185.199.111.133, 185.199.108.133, 185.199.109.133, ...\n",
      "Connecting to raw.githubusercontent.com (raw.githubusercontent.com)|185.199.111.133|:443... connected.\n",
      "HTTP request sent, awaiting response... 200 OK\n",
      "Length: 1115394 (1.1M) [text/plain]\n",
      "Saving to: ‘input.txt’\n",
      "\n",
      "input.txt           100%[===================>]   1.06M  --.-KB/s    in 0.03s   \n",
      "\n",
      "2025-02-09 07:44:15 (33.0 MB/s) - ‘input.txt’ saved [1115394/1115394]\n",
      "\n"
     ]
    }
   ],
   "source": [
    "!wget https://raw.githubusercontent.com/karpathy/ng-video-lecture/refs/heads/master/input.txt"
   ]
  },
  {
   "cell_type": "code",
   "execution_count": null,
   "metadata": {
    "execution": {
     "iopub.execute_input": "2025-02-09T07:44:15.267016Z",
     "iopub.status.busy": "2025-02-09T07:44:15.266690Z",
     "iopub.status.idle": "2025-02-09T07:44:15.272622Z",
     "shell.execute_reply": "2025-02-09T07:44:15.271836Z",
     "shell.execute_reply.started": "2025-02-09T07:44:15.266989Z"
    },
    "id": "_NInkX2b_2bQ"
   },
   "outputs": [],
   "source": [
    "with open('input.txt', 'r', encoding='utf-8') as f:\n",
    "    text = f.read()"
   ]
  },
  {
   "cell_type": "code",
   "execution_count": null,
   "metadata": {
    "colab": {
     "base_uri": "https://localhost:8080/"
    },
    "execution": {
     "iopub.execute_input": "2025-02-09T07:44:15.273881Z",
     "iopub.status.busy": "2025-02-09T07:44:15.273579Z",
     "iopub.status.idle": "2025-02-09T07:44:15.287570Z",
     "shell.execute_reply": "2025-02-09T07:44:15.286905Z",
     "shell.execute_reply.started": "2025-02-09T07:44:15.273842Z"
    },
    "id": "110Zpxzl_4e-",
    "outputId": "c3faa26d-0bfd-4ac4-e46a-e64c6546239b"
   },
   "outputs": [
    {
     "name": "stdout",
     "output_type": "stream",
     "text": [
      "length of the text: 1115394\n"
     ]
    }
   ],
   "source": [
    "print(f'length of the text: {len(text)}')"
   ]
  },
  {
   "cell_type": "code",
   "execution_count": null,
   "metadata": {
    "colab": {
     "base_uri": "https://localhost:8080/"
    },
    "execution": {
     "iopub.execute_input": "2025-02-09T07:44:15.288586Z",
     "iopub.status.busy": "2025-02-09T07:44:15.288346Z",
     "iopub.status.idle": "2025-02-09T07:44:15.316561Z",
     "shell.execute_reply": "2025-02-09T07:44:15.315632Z",
     "shell.execute_reply.started": "2025-02-09T07:44:15.288558Z"
    },
    "id": "Kcrs7_I9_9S0",
    "outputId": "4dda8f57-3acd-4ccb-f880-22876f2c40bd"
   },
   "outputs": [
    {
     "name": "stdout",
     "output_type": "stream",
     "text": [
      "\n",
      " !$&',-.3:;?ABCDEFGHIJKLMNOPQRSTUVWXYZabcdefghijklmnopqrstuvwxyz\n",
      "65\n"
     ]
    }
   ],
   "source": [
    "#The first step is to get the unique characters that are in the dataset\n",
    "chars = sorted(list(set(text)))\n",
    "vocab_size = len(chars) #possible elements of our sequence\n",
    "print(''.join(chars))\n",
    "print(vocab_size)"
   ]
  },
  {
   "cell_type": "markdown",
   "metadata": {
    "id": "l272wOwxy7Sy"
   },
   "source": [
    "## 2.Easy definition of encoder/decoder and train/val split"
   ]
  },
  {
   "cell_type": "code",
   "execution_count": null,
   "metadata": {
    "colab": {
     "base_uri": "https://localhost:8080/"
    },
    "execution": {
     "iopub.execute_input": "2025-02-09T07:44:15.319000Z",
     "iopub.status.busy": "2025-02-09T07:44:15.318770Z",
     "iopub.status.idle": "2025-02-09T07:44:15.335848Z",
     "shell.execute_reply": "2025-02-09T07:44:15.335201Z",
     "shell.execute_reply.started": "2025-02-09T07:44:15.318982Z"
    },
    "id": "TYWmry1KxeJS",
    "outputId": "4d93f028-59cd-4c56-eb3d-4bf0a064fbb2"
   },
   "outputs": [
    {
     "name": "stdout",
     "output_type": "stream",
     "text": [
      "[58, 46, 47, 57, 1, 47, 57, 1, 39, 1, 48, 59, 57, 58, 1, 39, 52, 1, 43, 62, 39, 51, 54, 50, 43, 2]\n",
      "this is a just an example!\n"
     ]
    }
   ],
   "source": [
    "#define a way to map string to integers\n",
    "string_to_integer = {ch:i for i,ch in enumerate(chars)}\n",
    "integer_to_string = {i:ch for i,ch in enumerate(chars)}\n",
    "\n",
    "#define functions to encode and decode our strings\n",
    "encode = lambda s: [string_to_integer[c] for c in s]\n",
    "decode = lambda l: ''.join([integer_to_string[i] for i in l])\n",
    "\n",
    "print(encode('this is a just an example!'))\n",
    "print(decode(encode('this is a just an example!')))"
   ]
  },
  {
   "cell_type": "markdown",
   "metadata": {
    "id": "HvC1hZtuywhU"
   },
   "source": [
    "Time to try to encode/decode the text that we read previously\n"
   ]
  },
  {
   "cell_type": "code",
   "execution_count": null,
   "metadata": {
    "colab": {
     "base_uri": "https://localhost:8080/"
    },
    "execution": {
     "iopub.execute_input": "2025-02-09T07:44:15.337646Z",
     "iopub.status.busy": "2025-02-09T07:44:15.337387Z",
     "iopub.status.idle": "2025-02-09T07:44:15.541129Z",
     "shell.execute_reply": "2025-02-09T07:44:15.540223Z",
     "shell.execute_reply.started": "2025-02-09T07:44:15.337612Z"
    },
    "id": "mO161uBExtRr",
    "outputId": "81fd1f73-56f9-4d72-f595-b9e332a9c3cf"
   },
   "outputs": [
    {
     "name": "stdout",
     "output_type": "stream",
     "text": [
      "torch.Size([1115394]) torch.int64\n",
      "tensor([18, 47, 56, 57, 58,  1, 15, 47, 58, 47, 64, 43, 52, 10,  0, 14, 43, 44,\n",
      "        53, 56, 43,  1, 61, 43,  1, 54, 56, 53, 41, 43, 43, 42,  1, 39, 52, 63,\n",
      "         1, 44, 59, 56, 58, 46, 43, 56,  6,  1, 46, 43, 39, 56,  1, 51, 43,  1,\n",
      "        57, 54, 43, 39, 49,  8,  0,  0, 13, 50, 50, 10,  0, 31, 54, 43, 39, 49,\n",
      "         6,  1, 57, 54, 43, 39, 49,  8,  0,  0, 18, 47, 56, 57, 58,  1, 15, 47,\n",
      "        58, 47, 64, 43, 52, 10,  0, 37, 53, 59])\n"
     ]
    }
   ],
   "source": [
    "#time to try to encode/decode the text that we read previously\n",
    "data = torch.tensor(encode(text),dtype=torch.long)\n",
    "print(data.shape, data.dtype)\n",
    "print(data[:100])"
   ]
  },
  {
   "cell_type": "markdown",
   "metadata": {
    "id": "CiCxV20hy2ht"
   },
   "source": [
    "Let's define our 2 train/val sets."
   ]
  },
  {
   "cell_type": "code",
   "execution_count": null,
   "metadata": {
    "execution": {
     "iopub.execute_input": "2025-02-09T07:44:15.542348Z",
     "iopub.status.busy": "2025-02-09T07:44:15.542048Z",
     "iopub.status.idle": "2025-02-09T07:44:15.546258Z",
     "shell.execute_reply": "2025-02-09T07:44:15.545399Z",
     "shell.execute_reply.started": "2025-02-09T07:44:15.542326Z"
    },
    "id": "yawVZ8K6zGA7"
   },
   "outputs": [],
   "source": [
    "threshold = int(0.9*len(data))\n",
    "train_data = data[:threshold]\n",
    "validation_data = data[threshold:]"
   ]
  },
  {
   "cell_type": "code",
   "execution_count": null,
   "metadata": {
    "colab": {
     "base_uri": "https://localhost:8080/"
    },
    "execution": {
     "iopub.execute_input": "2025-02-09T07:44:15.547289Z",
     "iopub.status.busy": "2025-02-09T07:44:15.547026Z",
     "iopub.status.idle": "2025-02-09T07:44:15.563792Z",
     "shell.execute_reply": "2025-02-09T07:44:15.563080Z",
     "shell.execute_reply.started": "2025-02-09T07:44:15.547258Z"
    },
    "id": "zPd2rADszZBA",
    "outputId": "4f59b956-eae0-4be2-c865-1982ecd8a8ee"
   },
   "outputs": [
    {
     "data": {
      "text/plain": [
       "tensor([18, 47, 56, 57, 58,  1, 15, 47, 58])"
      ]
     },
     "execution_count": 9,
     "metadata": {},
     "output_type": "execute_result"
    }
   ],
   "source": [
    "# Define the number of consecutive data elements to be processed at once\n",
    "block_size = 8\n",
    "train_data[:block_size+1]"
   ]
  },
  {
   "cell_type": "markdown",
   "metadata": {
    "id": "YNlJyL4f1EXo"
   },
   "source": [
    "## 3.Basic encoder logic and implementation of function to obtain batch"
   ]
  },
  {
   "cell_type": "markdown",
   "metadata": {
    "id": "_SSVpP5oz2cX"
   },
   "source": [
    "Since in a basic encoder definition, the block X mission is to predict the block X+1, let's see visually what is the meaning of this."
   ]
  },
  {
   "cell_type": "code",
   "execution_count": null,
   "metadata": {
    "colab": {
     "base_uri": "https://localhost:8080/"
    },
    "execution": {
     "iopub.execute_input": "2025-02-09T07:44:15.564725Z",
     "iopub.status.busy": "2025-02-09T07:44:15.564522Z",
     "iopub.status.idle": "2025-02-09T07:44:15.581807Z",
     "shell.execute_reply": "2025-02-09T07:44:15.581079Z",
     "shell.execute_reply.started": "2025-02-09T07:44:15.564709Z"
    },
    "id": "zJZgVChI0BWb",
    "outputId": "d5811bc8-4642-40f9-9747-55dd659e9aa0"
   },
   "outputs": [
    {
     "name": "stdout",
     "output_type": "stream",
     "text": [
      "when input is tensor([18]) the target: 47\n",
      "when input is tensor([18, 47]) the target: 56\n",
      "when input is tensor([18, 47, 56]) the target: 57\n",
      "when input is tensor([18, 47, 56, 57]) the target: 58\n",
      "when input is tensor([18, 47, 56, 57, 58]) the target: 1\n",
      "when input is tensor([18, 47, 56, 57, 58,  1]) the target: 15\n",
      "when input is tensor([18, 47, 56, 57, 58,  1, 15]) the target: 47\n",
      "when input is tensor([18, 47, 56, 57, 58,  1, 15, 47]) the target: 58\n"
     ]
    }
   ],
   "source": [
    "x = train_data[:block_size]\n",
    "y = train_data[1:block_size+1]\n",
    "for t in range(block_size):\n",
    "    context = x[:t+1]\n",
    "    target = y[t]\n",
    "    print(f'when input is {context} the target: {target}')"
   ]
  },
  {
   "cell_type": "markdown",
   "metadata": {
    "id": "DHt3Wt_d1Qmz"
   },
   "source": [
    "Now, it's time to define the way to obtain a batch to train our transformer model."
   ]
  },
  {
   "cell_type": "code",
   "execution_count": null,
   "metadata": {
    "colab": {
     "base_uri": "https://localhost:8080/"
    },
    "execution": {
     "iopub.execute_input": "2025-02-09T07:44:15.582840Z",
     "iopub.status.busy": "2025-02-09T07:44:15.582637Z",
     "iopub.status.idle": "2025-02-09T07:44:15.616407Z",
     "shell.execute_reply": "2025-02-09T07:44:15.615547Z",
     "shell.execute_reply.started": "2025-02-09T07:44:15.582823Z"
    },
    "id": "NqIv5C351auc",
    "outputId": "f4227921-01c7-4f30-8ed5-0531cf522f7d"
   },
   "outputs": [
    {
     "name": "stdout",
     "output_type": "stream",
     "text": [
      "input shape: torch.Size([4, 8]) \n",
      "tensor([[24, 43, 58,  5, 57,  1, 46, 43],\n",
      "        [44, 53, 56,  1, 58, 46, 39, 58],\n",
      "        [52, 58,  1, 58, 46, 39, 58,  1],\n",
      "        [25, 17, 27, 10,  0, 21,  1, 54]])\n",
      "target shape torch.Size([4, 8])\n",
      "tensor([[43, 58,  5, 57,  1, 46, 43, 39],\n",
      "        [53, 56,  1, 58, 46, 39, 58,  1],\n",
      "        [58,  1, 58, 46, 39, 58,  1, 46],\n",
      "        [17, 27, 10,  0, 21,  1, 54, 39]])\n",
      "--------\n"
     ]
    }
   ],
   "source": [
    "torch.manual_seed(1337) #for reproducibility\n",
    "batch_size = 4 #groups to be process in parallel\n",
    "block_size = 8 #context window lenght\n",
    "\n",
    "def get_batch(split,batch_size):\n",
    "  data = train_data if split=='train' else validation_data\n",
    "  #define the index to obtain the information\n",
    "  ix = torch.randint(len(data) - block_size, (batch_size,))\n",
    "  #obtain the current context window\n",
    "  x = torch.stack([data[i:i+block_size] for i in ix])\n",
    "   #stack the inputs\n",
    "  y = torch.stack([data[i+1:i+block_size+1] for i in ix]) #stack the targets\n",
    "  return x,y\n",
    "\n",
    "xb,yb = get_batch('train',batch_size)\n",
    "print(f'input shape: {xb.shape} ')\n",
    "print(xb)\n",
    "print(f'target shape {yb.shape}')\n",
    "print(yb)\n",
    "print('--------')"
   ]
  },
  {
   "cell_type": "markdown",
   "metadata": {
    "id": "dWvjbaoW249-"
   },
   "source": [
    "## 4.Define some baseline model to test our idea"
   ]
  },
  {
   "cell_type": "code",
   "execution_count": null,
   "metadata": {
    "colab": {
     "base_uri": "https://localhost:8080/"
    },
    "execution": {
     "iopub.execute_input": "2025-02-09T07:44:15.617517Z",
     "iopub.status.busy": "2025-02-09T07:44:15.617275Z",
     "iopub.status.idle": "2025-02-09T07:44:15.667832Z",
     "shell.execute_reply": "2025-02-09T07:44:15.666931Z",
     "shell.execute_reply.started": "2025-02-09T07:44:15.617488Z"
    },
    "id": "vDnRtBy2YLZI",
    "outputId": "50fd737a-9c63-42d3-d06c-3506ca3b90da"
   },
   "outputs": [
    {
     "name": "stdout",
     "output_type": "stream",
     "text": [
      "cuda\n"
     ]
    }
   ],
   "source": [
    "device = 'cuda' if torch.cuda.is_available() else 'cpu'\n",
    "print(device)"
   ]
  },
  {
   "cell_type": "markdown",
   "metadata": {
    "id": "mfG8ECtJYAIv"
   },
   "source": [
    "### 4.1 Bigram model implementation"
   ]
  },
  {
   "cell_type": "markdown",
   "metadata": {
    "id": "ahd4T7Nk3Y4c"
   },
   "source": [
    "In order to try the get_batch() function, and start obtaining some meaninful results, it's time to implement some first iteration of a possible model."
   ]
  },
  {
   "cell_type": "code",
   "execution_count": null,
   "metadata": {
    "colab": {
     "base_uri": "https://localhost:8080/"
    },
    "execution": {
     "iopub.execute_input": "2025-02-09T07:53:58.006472Z",
     "iopub.status.busy": "2025-02-09T07:53:58.006140Z",
     "iopub.status.idle": "2025-02-09T07:53:58.065751Z",
     "shell.execute_reply": "2025-02-09T07:53:58.065041Z",
     "shell.execute_reply.started": "2025-02-09T07:53:58.006445Z"
    },
    "id": "rvEhg7xE28ER",
    "outputId": "3e65b3f7-4d2f-4fd6-ad3b-cb8f46e76846"
   },
   "outputs": [
    {
     "name": "stdout",
     "output_type": "stream",
     "text": [
      "torch.Size([8192, 65])\n",
      "tensor(4.4775, device='cuda:0', grad_fn=<NllLossBackward0>)\n",
      "\n",
      "?YCnx.DkRZkNdc'wf,ZT,OLlT-ebtK\n",
      "b:xPT&kMBbUAUG:.XSKgO-33mMGd?KL3auhX:YVXhthXNNuyq&BMWG.tbfF dXENDZaAe\n"
     ]
    }
   ],
   "source": [
    "import torch\n",
    "import torch.nn as nn\n",
    "from torch.nn import functional as F\n",
    "torch.manual_seed(1337)\n",
    "\n",
    "class BigramLanguageModel(nn.Module):\n",
    "  #define the constructor\n",
    "  def __init__(self,vocabulary_size,n_embedding_dimension):\n",
    "    super().__init__()\n",
    "    #in our case, we are gonna obtain a table of 65x65 --> convert the token into a embedding representation\n",
    "    self.token_embedding_table = nn.Embedding(vocabulary_size,\n",
    "                                              n_embedding_dimension)\n",
    "    #encoding of positions of the sequence (block size->max length of sequence)\n",
    "    self.position_embedding_table = nn.Embedding(block_size,\n",
    "                                                 n_embedding_dimension)\n",
    "    #add the final linear layer\n",
    "    self.lm_head = nn.Linear(n_embedding_dimension,vocabulary_size)\n",
    "\n",
    "  def forward(self,idx,targets=None):\n",
    "    idx = idx.to(device)\n",
    "    B,T = idx.shape\n",
    "    #obtain the embeddings representation of the table in the position of interest\n",
    "    token_embeddings = self.token_embedding_table(idx) #size -> (B,T,C)\n",
    "    indices = torch.arange(T,device=device)\n",
    "    position_embeddings = self.position_embedding_table(indices % self.position_embedding_table.weight.size(0)) #size -> (T,C)\n",
    "    x = token_embeddings + position_embeddings #add the positional information to the embeddings\n",
    "    logits = self.lm_head(x) #size -> (batch_size,context_window,vocab_size)\n",
    "\n",
    "    if targets is None:\n",
    "      loss = None\n",
    "    else:\n",
    "      #define a loss function\n",
    "      B,T,C = logits.shape\n",
    "      #simplify the dimension of the loss\n",
    "      logits = logits.view(B*T,C)\n",
    "      target = targets.view(B*T)\n",
    "      #define a loss function\n",
    "      loss = F.cross_entropy(logits,target)\n",
    "    return logits,loss\n",
    "\n",
    "  #generate tokens\n",
    "  def generate(self,idx,max_new_tokens):\n",
    "    \"\"\"\n",
    "    Generates a sequence of tokens autoregressively based on the given input context.\n",
    "\n",
    "    Args:\n",
    "        idx (Tensor): The current token sequence (shape: [B, T]), where B is the batch size and T is the sequence length.\n",
    "        max_new_tokens (int): The number of new tokens to generate.\n",
    "\n",
    "    Returns:\n",
    "        Tensor: The generated sequence with new tokens appended (shape: [B, T + max_new_tokens]).\n",
    "    \"\"\"\n",
    "    #idx --> current context (B,T)\n",
    "    for _ in range(max_new_tokens):\n",
    "      logits,_ = self(idx)\n",
    "      # Extract the logits for the last predicted token in the sequence\n",
    "      logits = logits[:,-1,:]\n",
    "      probs = F.softmax(logits,dim=-1)\n",
    "      #return 1 element for each batch -> (B,1)\n",
    "      # Sample the next token from the probability distribution\n",
    "      idx_next = torch.multinomial(probs,num_samples=1)\n",
    "      #append element to the current sequence: (B,T+1)\n",
    "      idx = torch.cat((idx,idx_next),dim=1)\n",
    "    return idx\n",
    "\n",
    "n_embedding_dimension = 32\n",
    "block_size = 8\n",
    "baseline_model = BigramLanguageModel(vocab_size,n_embedding_dimension).to(device)\n",
    "xb,yb = xb.to(device),yb.to(device)\n",
    "logits,loss = baseline_model(xb,yb)\n",
    "print(logits.shape)\n",
    "print(loss)\n",
    "\n",
    "#try to generate some data\n",
    "print(decode(baseline_model.generate(idx=torch.zeros((1,1),dtype=torch.long,device=device),\n",
    "                                     max_new_tokens=100)[0].tolist()))\n"
   ]
  },
  {
   "cell_type": "code",
   "execution_count": null,
   "metadata": {
    "execution": {
     "iopub.execute_input": "2025-02-09T07:54:02.166630Z",
     "iopub.status.busy": "2025-02-09T07:54:02.166334Z",
     "iopub.status.idle": "2025-02-09T07:54:02.171501Z",
     "shell.execute_reply": "2025-02-09T07:54:02.170775Z",
     "shell.execute_reply.started": "2025-02-09T07:54:02.166607Z"
    },
    "id": "JvulGzD1WrVz"
   },
   "outputs": [],
   "source": [
    "#define some hyper-parameters\n",
    "optimizer = torch.optim.AdamW(baseline_model.parameters(),lr=1e-3)\n",
    "batch_size  = 32\n",
    "epochs = 1000"
   ]
  },
  {
   "cell_type": "code",
   "execution_count": null,
   "metadata": {
    "colab": {
     "base_uri": "https://localhost:8080/"
    },
    "execution": {
     "iopub.execute_input": "2025-02-09T07:54:28.386426Z",
     "iopub.status.busy": "2025-02-09T07:54:28.385931Z",
     "iopub.status.idle": "2025-02-09T07:54:30.470099Z",
     "shell.execute_reply": "2025-02-09T07:54:30.469182Z",
     "shell.execute_reply.started": "2025-02-09T07:54:28.386380Z"
    },
    "id": "qaucP76LW6N-",
    "outputId": "1c28065e-2fe0-4870-ddff-4a0e15a33c40"
   },
   "outputs": [
    {
     "name": "stdout",
     "output_type": "stream",
     "text": [
      "2.581425189971924\n"
     ]
    }
   ],
   "source": [
    "#define some training loop to test our ideas\n",
    "for epoch in range(epochs):\n",
    "  #obtain a batch from our data\n",
    "  xb,yb = get_batch('train',batch_size,block_size)\n",
    "  xb,yb = xb.to(device),yb.to(device)\n",
    "  #evaluate the loss\n",
    "  logits, loss =  baseline_model(xb,yb)\n",
    "  optimizer.zero_grad(set_to_none=True)\n",
    "  loss.backward()\n",
    "  optimizer.step()\n",
    "print(loss.item())"
   ]
  },
  {
   "cell_type": "code",
   "execution_count": null,
   "metadata": {
    "colab": {
     "base_uri": "https://localhost:8080/"
    },
    "execution": {
     "iopub.execute_input": "2025-02-09T07:54:32.598160Z",
     "iopub.status.busy": "2025-02-09T07:54:32.597766Z",
     "iopub.status.idle": "2025-02-09T07:54:32.651663Z",
     "shell.execute_reply": "2025-02-09T07:54:32.650790Z",
     "shell.execute_reply.started": "2025-02-09T07:54:32.598128Z"
    },
    "id": "3AsGAZCpXukR",
    "outputId": "6ec6f73d-cc52-4387-c78c-dd535d59ca32"
   },
   "outputs": [
    {
     "name": "stdout",
     "output_type": "stream",
     "text": [
      "\n",
      "Wawice my.\n",
      "Wh'starom orour\n",
      "Yowhs, tof is h be t il ndilin,\n",
      "\n",
      "W iree sengcin lat Het drov te, and t l \n"
     ]
    }
   ],
   "source": [
    "#after a fast training, let's try again the text generator.\n",
    "print(decode(baseline_model.generate(idx=torch.zeros((1,1),dtype=torch.long,device=device),\n",
    "                                     max_new_tokens=100)[0].tolist()))"
   ]
  },
  {
   "cell_type": "markdown",
   "metadata": {
    "id": "jC_Y0X6kZJXi"
   },
   "source": [
    "## 5.Self-attention\n",
    "\n",
    "Self-attention is a key mechanism in deep learning models like Transformers, allowing them to focus on different parts of an input sequence when making predictions. It helps the model capture relationships between words/tokens, regardless of their distance in the sequence.\n",
    "\n",
    "Why It Matters?\n",
    "\n",
    "- Helps models capture long-range dependencies in text.\n",
    "- Enables parallel processing (unlike RNNs).\n",
    "- Forms the foundation of Transformer models (e.g., GPT, BERT)."
   ]
  },
  {
   "cell_type": "markdown",
   "metadata": {
    "id": "6PjuCqnMZMSS"
   },
   "source": [
    "### Mathematical trick in self-attention"
   ]
  },
  {
   "cell_type": "code",
   "execution_count": null,
   "metadata": {
    "colab": {
     "base_uri": "https://localhost:8080/"
    },
    "execution": {
     "iopub.execute_input": "2025-02-09T07:45:01.023963Z",
     "iopub.status.busy": "2025-02-09T07:45:01.023583Z",
     "iopub.status.idle": "2025-02-09T07:45:01.056605Z",
     "shell.execute_reply": "2025-02-09T07:45:01.055698Z",
     "shell.execute_reply.started": "2025-02-09T07:45:01.023931Z"
    },
    "id": "asky7IPQZWoL",
    "outputId": "b6407101-d33e-4645-de1c-dec31c1e2f36"
   },
   "outputs": [
    {
     "data": {
      "text/plain": [
       "(tensor([[0.0783, 0.4956],\n",
       "         [0.6231, 0.4224],\n",
       "         [0.2004, 0.0287],\n",
       "         [0.5851, 0.6967],\n",
       "         [0.1761, 0.2595],\n",
       "         [0.7086, 0.5809],\n",
       "         [0.0574, 0.7669],\n",
       "         [0.8778, 0.2434]]),\n",
       " torch.Size([4, 8, 2]))"
      ]
     },
     "execution_count": 16,
     "metadata": {},
     "output_type": "execute_result"
    }
   ],
   "source": [
    "#simple example\n",
    "torch.manual_seed(1337) #for reproducibility\n",
    "B,T,C = 4,8,2 #batch size , context window, vocabulary size\n",
    "x = torch.rand(B,T,C)\n",
    "x[0],x.shape"
   ]
  },
  {
   "cell_type": "code",
   "execution_count": null,
   "metadata": {
    "execution": {
     "iopub.execute_input": "2025-02-09T07:45:01.058192Z",
     "iopub.status.busy": "2025-02-09T07:45:01.057868Z",
     "iopub.status.idle": "2025-02-09T07:45:01.069822Z",
     "shell.execute_reply": "2025-02-09T07:45:01.069022Z",
     "shell.execute_reply.started": "2025-02-09T07:45:01.058164Z"
    },
    "id": "_wQb-S8iaSK0"
   },
   "outputs": [],
   "source": [
    "'''\n",
    "  Since we wanna express in some way the influence of the previous tokens respect\n",
    "  the current token, what about doing an average of the previous tokens?\n",
    "'''\n",
    "#APPROACH 1\n",
    "\n",
    "xbow = torch.zeros((B,T,C)) #C--> number of channels/features\n",
    "for b in range(B):\n",
    "  for t in range(T):\n",
    "    xprev = x[b,:t+1]  # (t,C)\n",
    "    xbow[b,t] = torch.mean(xprev,0) #average the previous elements"
   ]
  },
  {
   "cell_type": "markdown",
   "metadata": {
    "id": "LpcpgZTfwhkW"
   },
   "source": [
    "Now, let's try to use some mathematical trick to compute the same operation"
   ]
  },
  {
   "cell_type": "code",
   "execution_count": null,
   "metadata": {
    "colab": {
     "base_uri": "https://localhost:8080/"
    },
    "execution": {
     "iopub.execute_input": "2025-02-09T07:45:01.071786Z",
     "iopub.status.busy": "2025-02-09T07:45:01.071491Z",
     "iopub.status.idle": "2025-02-09T07:45:01.109523Z",
     "shell.execute_reply": "2025-02-09T07:45:01.108711Z",
     "shell.execute_reply.started": "2025-02-09T07:45:01.071764Z"
    },
    "id": "1ErFQxrawpu_",
    "outputId": "20e6d66a-641d-4297-b5d0-726b06a9527f"
   },
   "outputs": [
    {
     "name": "stdout",
     "output_type": "stream",
     "text": [
      "a=\n",
      "tensor([[1.0000, 0.0000, 0.0000],\n",
      "        [0.5000, 0.5000, 0.0000],\n",
      "        [0.3333, 0.3333, 0.3333]])\n",
      "---\n",
      "b=\n",
      "tensor([[9., 5.],\n",
      "        [1., 2.],\n",
      "        [0., 9.]])\n",
      "---\n",
      "c=\n",
      "tensor([[9.0000, 5.0000],\n",
      "        [5.0000, 3.5000],\n",
      "        [3.3333, 5.3333]])\n"
     ]
    }
   ],
   "source": [
    "torch.manual_seed(17)\n",
    "a = torch.tril(torch.ones(3,3))\n",
    "a = a/torch.sum(a,1,keepdim=True)\n",
    "b = torch.randint(0,10,(3,2)).float()\n",
    "c = a@b\n",
    "print('a=')\n",
    "print(a)\n",
    "print('---')\n",
    "print('b=')\n",
    "print(b)\n",
    "print('---')\n",
    "print('c=')\n",
    "print(c)"
   ]
  },
  {
   "cell_type": "markdown",
   "metadata": {
    "id": "QTeHc9-hxDva"
   },
   "source": [
    "We can see clearly, that with that trick, we are computing the average of the elements step by step. Firt the 2 ones, then the 4 ones, and then, all at once. Let's implement this idea in the previous code."
   ]
  },
  {
   "cell_type": "code",
   "execution_count": null,
   "metadata": {
    "colab": {
     "base_uri": "https://localhost:8080/"
    },
    "execution": {
     "iopub.execute_input": "2025-02-09T07:45:01.111199Z",
     "iopub.status.busy": "2025-02-09T07:45:01.110899Z",
     "iopub.status.idle": "2025-02-09T07:45:01.132898Z",
     "shell.execute_reply": "2025-02-09T07:45:01.132121Z",
     "shell.execute_reply.started": "2025-02-09T07:45:01.111173Z"
    },
    "id": "HSekXyKfxU7S",
    "outputId": "195a5c73-027d-4aea-901e-f681d5ec270a"
   },
   "outputs": [
    {
     "name": "stdout",
     "output_type": "stream",
     "text": [
      "tensor([[1.0000, 0.0000, 0.0000, 0.0000, 0.0000, 0.0000, 0.0000, 0.0000],\n",
      "        [0.5000, 0.5000, 0.0000, 0.0000, 0.0000, 0.0000, 0.0000, 0.0000],\n",
      "        [0.3333, 0.3333, 0.3333, 0.0000, 0.0000, 0.0000, 0.0000, 0.0000],\n",
      "        [0.2500, 0.2500, 0.2500, 0.2500, 0.0000, 0.0000, 0.0000, 0.0000],\n",
      "        [0.2000, 0.2000, 0.2000, 0.2000, 0.2000, 0.0000, 0.0000, 0.0000],\n",
      "        [0.1667, 0.1667, 0.1667, 0.1667, 0.1667, 0.1667, 0.0000, 0.0000],\n",
      "        [0.1429, 0.1429, 0.1429, 0.1429, 0.1429, 0.1429, 0.1429, 0.0000],\n",
      "        [0.1250, 0.1250, 0.1250, 0.1250, 0.1250, 0.1250, 0.1250, 0.1250]])\n"
     ]
    },
    {
     "data": {
      "text/plain": [
       "True"
      ]
     },
     "execution_count": 19,
     "metadata": {},
     "output_type": "execute_result"
    }
   ],
   "source": [
    "#APPROACH 2\n",
    "weights = torch.tril(torch.ones(T,T))\n",
    "weights = weights/weights.sum(1,keepdim=True)\n",
    "print(weights)\n",
    "xbow2 = weights@x #(T,T) @ (B,T,C) --> (B,T,C)\n",
    "torch.allclose(xbow,xbow2)"
   ]
  },
  {
   "cell_type": "markdown",
   "metadata": {
    "id": "2HPrrgltyWop"
   },
   "source": [
    "Now, it's time to add the use of **softmax**, to simulate the self-attention mechanism that we know.\n",
    "Softmax formula:\n",
    "\n",
    "\n",
    "![softmax](https://miro.medium.com/v2/resize:fit:600/0*fbg5QEc2Lv8IIKcq.png)"
   ]
  },
  {
   "cell_type": "code",
   "execution_count": null,
   "metadata": {
    "colab": {
     "base_uri": "https://localhost:8080/"
    },
    "execution": {
     "iopub.execute_input": "2025-02-09T07:45:01.133962Z",
     "iopub.status.busy": "2025-02-09T07:45:01.133699Z",
     "iopub.status.idle": "2025-02-09T07:45:01.150255Z",
     "shell.execute_reply": "2025-02-09T07:45:01.149461Z",
     "shell.execute_reply.started": "2025-02-09T07:45:01.133936Z"
    },
    "id": "cv_xdckIyhdg",
    "outputId": "2b0d3450-3b3e-4a35-c6e8-ab1109b3e7ad"
   },
   "outputs": [
    {
     "name": "stdout",
     "output_type": "stream",
     "text": [
      "tensor([[1., 0., 0., 0., 0., 0., 0., 0.],\n",
      "        [1., 1., 0., 0., 0., 0., 0., 0.],\n",
      "        [1., 1., 1., 0., 0., 0., 0., 0.],\n",
      "        [1., 1., 1., 1., 0., 0., 0., 0.],\n",
      "        [1., 1., 1., 1., 1., 0., 0., 0.],\n",
      "        [1., 1., 1., 1., 1., 1., 0., 0.],\n",
      "        [1., 1., 1., 1., 1., 1., 1., 0.],\n",
      "        [1., 1., 1., 1., 1., 1., 1., 1.]])\n",
      "tensor([[0., -inf, -inf, -inf, -inf, -inf, -inf, -inf],\n",
      "        [0., 0., -inf, -inf, -inf, -inf, -inf, -inf],\n",
      "        [0., 0., 0., -inf, -inf, -inf, -inf, -inf],\n",
      "        [0., 0., 0., 0., -inf, -inf, -inf, -inf],\n",
      "        [0., 0., 0., 0., 0., -inf, -inf, -inf],\n",
      "        [0., 0., 0., 0., 0., 0., -inf, -inf],\n",
      "        [0., 0., 0., 0., 0., 0., 0., -inf],\n",
      "        [0., 0., 0., 0., 0., 0., 0., 0.]])\n",
      "tensor([[1.0000, 0.0000, 0.0000, 0.0000, 0.0000, 0.0000, 0.0000, 0.0000],\n",
      "        [0.5000, 0.5000, 0.0000, 0.0000, 0.0000, 0.0000, 0.0000, 0.0000],\n",
      "        [0.3333, 0.3333, 0.3333, 0.0000, 0.0000, 0.0000, 0.0000, 0.0000],\n",
      "        [0.2500, 0.2500, 0.2500, 0.2500, 0.0000, 0.0000, 0.0000, 0.0000],\n",
      "        [0.2000, 0.2000, 0.2000, 0.2000, 0.2000, 0.0000, 0.0000, 0.0000],\n",
      "        [0.1667, 0.1667, 0.1667, 0.1667, 0.1667, 0.1667, 0.0000, 0.0000],\n",
      "        [0.1429, 0.1429, 0.1429, 0.1429, 0.1429, 0.1429, 0.1429, 0.0000],\n",
      "        [0.1250, 0.1250, 0.1250, 0.1250, 0.1250, 0.1250, 0.1250, 0.1250]])\n"
     ]
    },
    {
     "data": {
      "text/plain": [
       "True"
      ]
     },
     "execution_count": 20,
     "metadata": {},
     "output_type": "execute_result"
    }
   ],
   "source": [
    "#APPROACH 3\n",
    "tril = torch.tril(torch.ones(T,T))\n",
    "print(tril)\n",
    "weights = torch.zeros((T,T))\n",
    "weights = weights.masked_fill(tril==0,float('-inf'))\n",
    "print(weights)\n",
    "weights = F.softmax(weights,dim=-1)\n",
    "print(weights)\n",
    "xbow3 = weights@x\n",
    "torch.allclose(xbow,xbow3)"
   ]
  },
  {
   "cell_type": "code",
   "execution_count": null,
   "metadata": {
    "colab": {
     "base_uri": "https://localhost:8080/"
    },
    "execution": {
     "iopub.execute_input": "2025-02-09T07:45:01.151311Z",
     "iopub.status.busy": "2025-02-09T07:45:01.151069Z",
     "iopub.status.idle": "2025-02-09T07:45:01.173818Z",
     "shell.execute_reply": "2025-02-09T07:45:01.173065Z",
     "shell.execute_reply.started": "2025-02-09T07:45:01.151291Z"
    },
    "id": "-DhGHLJLXa_8",
    "outputId": "6734c391-ea71-4812-d4c0-ef8c8ac52d6a"
   },
   "outputs": [
    {
     "data": {
      "text/plain": [
       "torch.Size([4, 8, 32])"
      ]
     },
     "execution_count": 21,
     "metadata": {},
     "output_type": "execute_result"
    }
   ],
   "source": [
    "#APPROACH 4\n",
    "torch.manual_seed(1337)\n",
    "B,T,C = 4,8,32 #4 batches, 8 tokens per context window, 32 elements to represent the embedding\n",
    "x = torch.rand(B,T,C)\n",
    "\n",
    "tril = torch.tril((torch.ones(T,T)))\n",
    "weights = torch.zeros((T,T))\n",
    "weights = weights.masked_fill(tril==0,\n",
    "                              float('-inf'))\n",
    "weights = F.softmax(weights,dim=-1)\n",
    "out = weights@x\n",
    "out.shape"
   ]
  },
  {
   "cell_type": "markdown",
   "metadata": {
    "id": "afDVP4wtZGmv"
   },
   "source": [
    "In the self-attention mechanism, for each word vector in the input sequence, we create three distinct vectors:\n",
    "\n",
    "- Query vector (Q): This represents the word we are currently focusing on. It is used to compare against all the other word vectors in the sequence.\n",
    "\n",
    "- Key vector (K): This represents every word in the sequence from the perspective of the word we are focusing on. It is used to match with the query to determine how much attention a word should pay to other words.\n",
    "\n",
    "- Value vector (V): This contains the actual information that will be used in the final output. The value vector is weighted based on the similarity between the query and the key vectors.\n",
    "\n",
    "\n",
    "**Overall Process:**\n",
    "\n",
    "- For each word in the sequence, compute its query (Q), key (K), and value (V) using learned linear transformations.\n",
    "- Compute the attention scores by taking the dot product of the query vector with the key vectors of all words, followed by a softmax function to normalize these scores.\n",
    "- Use the attention scores to compute a weighted sum of the value vectors.\n",
    "\n",
    "The resulting weighted sum represents how much information from the other words (and itself) contributes to the representation of the current word.\n",
    "\n",
    "This mechanism allows the model to dynamically focus on the most relevant parts of the sequence for each word, capturing dependencies and context efficiently.\n",
    "\n",
    "\n",
    "**The Role of the Head in Multi-Head Attention**\n",
    "\n",
    "Instead of computing self-attention once, transformers use multiple attention heads in parallel to capture different types of relationships between words. Each head learns a different attention pattern, allowing the model to focus on various parts of the sequence simultaneously.\n",
    "\n",
    "Each head independently computes its own Q, K, and V matrices using different learned weight matrices.\n",
    "\n",
    "These separate attention mechanisms allow the model to capture different semantic relationships (e.g., long-range dependencies, syntactic structure, coreference resolution).\n",
    "\n",
    "After computing the attention outputs from multiple heads, they are concatenated and passed through a linear transformation to merge the information.\n",
    "\n",
    "So, let's try to use this concepts in order to define the self-attention mechanism in a proper way."
   ]
  },
  {
   "cell_type": "code",
   "execution_count": null,
   "metadata": {
    "colab": {
     "base_uri": "https://localhost:8080/"
    },
    "execution": {
     "iopub.execute_input": "2025-02-09T07:45:01.174793Z",
     "iopub.status.busy": "2025-02-09T07:45:01.174429Z",
     "iopub.status.idle": "2025-02-09T07:45:01.199732Z",
     "shell.execute_reply": "2025-02-09T07:45:01.199074Z",
     "shell.execute_reply.started": "2025-02-09T07:45:01.174771Z"
    },
    "id": "gdX2xUMgZvFC",
    "outputId": "8638dde8-955c-4170-abce-ecae0663fda8"
   },
   "outputs": [
    {
     "data": {
      "text/plain": [
       "torch.Size([4, 8, 16])"
      ]
     },
     "execution_count": 22,
     "metadata": {},
     "output_type": "execute_result"
    }
   ],
   "source": [
    "#APPROACH 4\n",
    "torch.manual_seed(1337)\n",
    "B,T,C = 4,8,32 #4 batches, 8 tokens per context window, 32 elements to represent the embedding\n",
    "x = torch.rand(B,T,C)\n",
    "\n",
    "#Implementation of a single Head that performs self-attention\n",
    "head_size = 16\n",
    "\n",
    "# Create a linear transformation for the key vectors\n",
    "# The input dimension is C (size of word embeddings), and the output dimension is head_size (size of key vector for each attention head)\n",
    "# No bias term is added to this transformation\n",
    "key = nn.Linear(C, head_size, bias=False)\n",
    "\n",
    "# Create a linear transformation for the query vectors\n",
    "# The input dimension is C (size of word embeddings), and the output dimension is head_size (size of query vector for each attention head)\n",
    "# No bias term is added to this transformation\n",
    "query = nn.Linear(C, head_size, bias=False)\n",
    "\n",
    "#definition of value vector\n",
    "value = nn.Linear(C, head_size, bias=False)\n",
    "\n",
    "k = key(x) # (B,T,16)\n",
    "q = query(x) # (B,T,16)\n",
    "v = value(x)\n",
    "\n",
    "#we want to obtain the relationship between the key vectors and query vectors for every word in the context window\n",
    "scores = q @ k.transpose(-2,-1)*(head_size**-0.5) # (B,T,16) @ (B,16,T) --> (B,T,T)\n",
    "\n",
    "tril = torch.tril((torch.ones(T,T)))\n",
    "scores = scores.masked_fill(tril==0,\n",
    "                              float('-inf'))\n",
    "scores = F.softmax(scores,dim=-1)\n",
    "out = scores@v\n",
    "out.shape"
   ]
  },
  {
   "cell_type": "code",
   "execution_count": null,
   "metadata": {
    "colab": {
     "base_uri": "https://localhost:8080/"
    },
    "execution": {
     "iopub.execute_input": "2025-02-09T07:45:01.202143Z",
     "iopub.status.busy": "2025-02-09T07:45:01.201881Z",
     "iopub.status.idle": "2025-02-09T07:45:01.207829Z",
     "shell.execute_reply": "2025-02-09T07:45:01.207261Z",
     "shell.execute_reply.started": "2025-02-09T07:45:01.202104Z"
    },
    "id": "VyjHAFmrbQA-",
    "outputId": "b8819441-7f32-4824-9a64-3ca77caca281"
   },
   "outputs": [
    {
     "data": {
      "text/plain": [
       "tensor([1., 0., 0., 0., 0., 0., 0., 0.])"
      ]
     },
     "execution_count": 23,
     "metadata": {},
     "output_type": "execute_result"
    }
   ],
   "source": [
    "weights[0]"
   ]
  },
  {
   "cell_type": "markdown",
   "metadata": {
    "id": "-_0ETD1XdL-E"
   },
   "source": [
    "Let's see at the attention score output and analyse the result:\n",
    "- Each row corresponds to a token in the sequence.\n",
    "- Each column represents how much attention is paid to other tokens (or itself) by that specific token.\n",
    "- The values in the tensor are normalized (typically using softmax), indicating the strength of attention, ranging between 0 and 1.\n",
    "\n",
    "Additional notes:\n",
    "\n",
    "-  Attention mechanism is a communication mechanism.\n",
    "- There is no notion of what space is. Attention simply acts over a set of vectors.\n",
    "- Each sample across batch dimension is processed independently and never 'communicate' with each other sample.\n",
    "- In the case that we are doing an **encoder** attention block, the part of the **tril masking* is not neccesary because we want to allow the tokens to communicate each other. In the case of a **decoder** block , it's necessary since we want to make the model to generate new tokens.\n",
    "- In **self-attention**, Q,K,V are generated by the same data. In the case of **cross-attention**, keys and values come from an external source.\n",
    "- Scaled attention further adjusts the attention weights by dividing them by 1/sqrt(head_size). This scaling ensures that when the input query (Q) and key (K) vectors have unit variance, the resulting attention weights also maintain unit variance. Consequently, the softmax function produces more balanced and diffuse probabilities, preventing it from becoming overly concentrated or saturating excessively.\n",
    "\n"
   ]
  },
  {
   "cell_type": "markdown",
   "metadata": {
    "id": "4pMp1HoLnASj"
   },
   "source": [
    "## 6. Create the self-attention head in the previously defined model and finish the decoder implementation\n",
    "\n",
    "![Image](https://i.sstatic.net/nV7Ee.jpg)"
   ]
  },
  {
   "cell_type": "code",
   "execution_count": null,
   "metadata": {
    "colab": {
     "base_uri": "https://localhost:8080/"
    },
    "execution": {
     "iopub.execute_input": "2025-02-09T07:45:01.208798Z",
     "iopub.status.busy": "2025-02-09T07:45:01.208544Z",
     "iopub.status.idle": "2025-02-09T07:45:01.228052Z",
     "shell.execute_reply": "2025-02-09T07:45:01.227210Z",
     "shell.execute_reply.started": "2025-02-09T07:45:01.208778Z"
    },
    "id": "Uu53X_VIuuKy",
    "outputId": "cda3f824-ae88-4427-ce77-beed4888627a"
   },
   "outputs": [
    {
     "name": "stdout",
     "output_type": "stream",
     "text": [
      "input shape: torch.Size([4, 16]) \n",
      "tensor([[21, 27, 24, 13, 26, 33, 31, 10,  0, 32, 59, 57, 46,  6,  1, 58],\n",
      "        [53, 59, 57,  1, 51, 43, 52,  0, 13, 56, 43,  1, 39, 58,  1, 58],\n",
      "        [50,  6,  1, 57, 47, 56,  8,  1, 18, 39, 56, 43,  1, 63, 53, 59],\n",
      "        [58, 46,  1, 57, 53,  6,  1, 46, 53, 50, 63,  1, 57, 47, 56, 11]])\n",
      "target shape torch.Size([4, 16])\n",
      "tensor([[27, 24, 13, 26, 33, 31, 10,  0, 32, 59, 57, 46,  6,  1, 58, 59],\n",
      "        [59, 57,  1, 51, 43, 52,  0, 13, 56, 43,  1, 39, 58,  1, 58, 46],\n",
      "        [ 6,  1, 57, 47, 56,  8,  1, 18, 39, 56, 43,  1, 63, 53, 59,  1],\n",
      "        [46,  1, 57, 53,  6,  1, 46, 53, 50, 63,  1, 57, 47, 56, 11,  1]])\n",
      "--------\n"
     ]
    }
   ],
   "source": [
    "'''\n",
    "  Demo of the data that we are going to get to try the model\n",
    "'''\n",
    "\n",
    "torch.manual_seed(1337) #for reproducibility\n",
    "batch_size = 4 #groups to be process in parallel\n",
    "block_size = 16 #context window lenght\n",
    "\n",
    "def get_batch(split,batch_size,block_size):\n",
    "  data = train_data if split=='train' else validation_data\n",
    "  #define the index to obtain the information\n",
    "  ix = torch.randint(len(data) - block_size, (batch_size,))\n",
    "  #obtain the current context window\n",
    "  x = torch.stack([data[i:i+block_size] for i in ix])\n",
    "   #stack the inputs\n",
    "  y = torch.stack([data[i+1:i+block_size+1] for i in ix]) #stack the targets\n",
    "  return x,y\n",
    "\n",
    "xb,yb = get_batch('train',batch_size,block_size)\n",
    "print(f'input shape: {xb.shape} ')\n",
    "print(xb)\n",
    "print(f'target shape {yb.shape}')\n",
    "print(yb)\n",
    "print('--------')"
   ]
  },
  {
   "cell_type": "code",
   "execution_count": null,
   "metadata": {
    "colab": {
     "base_uri": "https://localhost:8080/"
    },
    "execution": {
     "iopub.execute_input": "2025-02-09T07:55:50.866662Z",
     "iopub.status.busy": "2025-02-09T07:55:50.866286Z",
     "iopub.status.idle": "2025-02-09T07:55:52.033957Z",
     "shell.execute_reply": "2025-02-09T07:55:52.033039Z",
     "shell.execute_reply.started": "2025-02-09T07:55:50.866636Z"
    },
    "id": "L1ddJoAqnGHq",
    "outputId": "0945a744-0f4b-48a5-d298-07dca1718d95"
   },
   "outputs": [
    {
     "name": "stdout",
     "output_type": "stream",
     "text": [
      "torch.Size([256, 65])\n",
      "tensor(4.4642, device='cuda:0', grad_fn=<NllLossBackward0>)\n",
      "\n",
      "M.Ebimuvlig&$!?vX;p&wCu!gylgHt$r:ycH.WVDRCtwAtu;mpgET\n",
      "KocTCtZYBubphHym\n",
      "mHcPbQans'ftrc& D;qEQgWgnDbER\n"
     ]
    }
   ],
   "source": [
    "import torch\n",
    "import torch.nn as nn\n",
    "from torch.nn import functional as F\n",
    "torch.manual_seed(1337)\n",
    "\n",
    "class Head(nn.Module):  # Represents a single attention head in a multi-head attention mechanism.\n",
    "    def __init__(self, head_size):\n",
    "        super().__init__()\n",
    "        # Linear transformations for Key (K), Query (Q), and Value (V) vectors.\n",
    "        self.key = nn.Linear(n_embedding_dimension, head_size, bias=False)\n",
    "        self.query = nn.Linear(n_embedding_dimension, head_size, bias=False)\n",
    "        self.value = nn.Linear(n_embedding_dimension, head_size, bias=False)\n",
    "        # Register a lower triangular matrix to apply masking for causal attention.\n",
    "        self.register_buffer('tril', torch.tril(torch.ones(block_size, block_size)))\n",
    "        self.dropout = nn.Dropout(0.2)\n",
    "\n",
    "    def forward(self, x):\n",
    "        # B: batch size, T: sequence length, C: embedding dimension\n",
    "        B, T, C = x.shape\n",
    "\n",
    "        # Compute the key (K), query (Q), and value (V) vectors.\n",
    "        k = self.key(x)  # Shape: (B, T, head_size)\n",
    "        q = self.query(x)  # Shape: (B, T, head_size)\n",
    "        v = self.value(x)  # Shape: (B, T, head_size)\n",
    "\n",
    "        # Calculate the attention scores by taking the dot product of Q and K (scaled by sqrt(C)).\n",
    "        attention_scores = q @ k.transpose(-2, -1) * C**-0.5  # Shape: (B, T, T)\n",
    "\n",
    "        # Apply causal masking to prevent attention to future tokens.\n",
    "        attention_scores = attention_scores.masked_fill(self.tril[:T, :T] == 0, float('-inf'))\n",
    "\n",
    "        # Normalize the scores using softmax to get attention weights.\n",
    "        attention_scores = F.softmax(attention_scores, dim=-1)  # Shape: (B, T, T)\n",
    "        attention_scores = self.dropout(attention_scores)\n",
    "\n",
    "        # Compute the output by applying attention weights to the value (V) vectors.\n",
    "        out = attention_scores @ v  # Shape: (B, T, head_size)\n",
    "\n",
    "        return out\n",
    "\n",
    "class MultiHeadAttention(nn.Module):\n",
    "  '''\n",
    "  Class to define the multihead implementation\n",
    "  '''\n",
    "  def __init__(self,num_heads,head_size):\n",
    "    super().__init__()\n",
    "    self.heads = nn.ModuleList([Head(head_size) for _ in range(num_heads)])\n",
    "    self.proj = nn.Linear(n_embedding_dimension,n_embedding_dimension)\n",
    "    self.dropout = nn.Dropout(0.5)\n",
    "\n",
    "  def forward(self,x):\n",
    "    return self.proj(torch.cat([h(x) for h in self.heads],dim=-1))\n",
    "\n",
    "class FeedForward(nn.Module):\n",
    "  '''\n",
    "  Class to define the feedforward implementation\n",
    "  '''\n",
    "  def __init__(self,n_embedding_dimension):\n",
    "    '''\n",
    "      Paper 'Attention is all you need' reference.\n",
    "      The dimensionality of input and output is d_model=512,\n",
    "      and the inner-layer has dimensionality dff=2048. So we have 4 as a factor\n",
    "    '''\n",
    "    super().__init__()\n",
    "    self.net = nn.Sequential(\n",
    "        nn.Linear(n_embedding_dimension,n_embedding_dimension*4),\n",
    "        nn.ReLU(),\n",
    "        nn.Linear(4*n_embedding_dimension,n_embedding_dimension), #reproject in the same embedding space\n",
    "        nn.Dropout(0.5)\n",
    "    )\n",
    "  def forward(self,x):\n",
    "    return self.net(x)\n",
    "\n",
    "# Layer Normalization (LayerNorm) is used in Transformers to stabilize training,\n",
    "# normalize activations, and improve gradient flow. Unlike BatchNorm, it normalizes\n",
    "# across features (not batch) and helps prevent internal covariate shift. It is\n",
    "# usually applied before or after residual connections to improve convergence.\n",
    "\n",
    "#time to replicate the mechanism N times in a block form\n",
    "class Block(nn.Module):\n",
    "  '''\n",
    "  Class to define the block implementation --> communication followed by computation\n",
    "  '''\n",
    "  def __init__(self,n_embedding_dimension,number_of_heads):\n",
    "    super().__init__()\n",
    "    head_size = n_embedding_dimension//number_of_heads\n",
    "    self.sa = MultiHeadAttention(number_of_heads,head_size)\n",
    "    self.ffwd = FeedForward(n_embedding_dimension)\n",
    "    self.ln1 = nn.LayerNorm(n_embedding_dimension)\n",
    "    self.ln2 = nn.LayerNorm(n_embedding_dimension)\n",
    "\n",
    "  def forward(self,x):\n",
    "    x = x + self.sa(self.ln1(x)) #add residual connections\n",
    "    x = x + self.ffwd(self.ln2(x)) #add residual connections\n",
    "    return x\n",
    "\n",
    "class BigramLanguageModel(nn.Module):\n",
    "  #define the constructor\n",
    "  def __init__(self,vocabulary_size,n_embedding_dimension,number_of_heads):\n",
    "    super().__init__()\n",
    "    #in our case, we are gonna obtain a table of 65x65 --> convert the token into a embedding representation\n",
    "    self.token_embedding_table = nn.Embedding(vocabulary_size,\n",
    "                                              n_embedding_dimension)\n",
    "    #encoding of positions of the sequence (block size->max length of sequence)\n",
    "    self.position_embedding_table = nn.Embedding(block_size,\n",
    "                                                 n_embedding_dimension)\n",
    "    self.blocks = nn.Sequential(*[Block(n_embedding_dimension,number_of_heads) for _ in range(number_layers)])\n",
    "    self.ln_f = nn.LayerNorm(n_embedding_dimension)\n",
    "    #add the final linear layer\n",
    "    self.lm_head = nn.Linear(n_embedding_dimension,vocabulary_size)\n",
    "\n",
    "  def forward(self,idx,targets=None):\n",
    "    idx = idx.to(device)\n",
    "    B,T = idx.shape\n",
    "    #obtain the emebddings representation of the table in the position of interest\n",
    "    token_embeddings = self.token_embedding_table(idx) #size -> (B,T,C)\n",
    "    indices = torch.arange(T,device=device)\n",
    "    #obtain the position information of the tokens\n",
    "    position_embeddings = self.position_embedding_table(indices) #size -> (T,C)\n",
    "    x = token_embeddings + position_embeddings #add the positional information to the embeddings\n",
    "    x = self.blocks(x) #apply the attention in blocks\n",
    "    x = self.ln_f(x) #apply layer norm \n",
    "    logits = self.lm_head(x) #size -> (batch_size,context_window,vocab_size)\n",
    "\n",
    "    if targets is None:\n",
    "      loss = None\n",
    "    else:\n",
    "      #define a loss function\n",
    "      B,T,C = logits.shape\n",
    "      #simplify the dimension of the loss\n",
    "      logits = logits.view(B*T,C)\n",
    "      target = targets.view(B*T)\n",
    "      #define a loss function\n",
    "      loss = F.cross_entropy(logits,target)\n",
    "    return logits,loss\n",
    "\n",
    "  #generate tokens\n",
    "  def generate(self,idx,max_new_tokens):\n",
    "    \"\"\"\n",
    "    Generates a sequence of tokens autoregressively based on the given input context.\n",
    "\n",
    "    Args:\n",
    "        idx (Tensor): The current token sequence (shape: [B, T]), where B is the batch size and T is the sequence length.\n",
    "        max_new_tokens (int): The number of new tokens to generate.\n",
    "\n",
    "    Returns:\n",
    "        Tensor: The generated sequence with new tokens appended (shape: [B, T + max_new_tokens]).\n",
    "    \"\"\"\n",
    "    #idx --> current context (B,T)\n",
    "    for _ in range(max_new_tokens):\n",
    "      #crop idx to the last block_size tokens in order to fit the defined table\n",
    "      idx_croped = idx[:,-block_size:]\n",
    "      #gets the predictions\n",
    "      logits,loss = self(idx_croped)\n",
    "      # Extract the logits for the last predicted token in the sequence\n",
    "      logits = logits[:,-1,:]\n",
    "      probs = F.softmax(logits,dim=-1)\n",
    "      #return 1 element for each batch -> (B,1)\n",
    "      # Sample the next token from the probability distribution\n",
    "      idx_next = torch.multinomial(probs,num_samples=1)\n",
    "      if idx_next.max() >= vocab_size:\n",
    "            print(f\"Warning: idx_next contains invalid index {idx_next.max()}\")\n",
    "\n",
    "      #append element to the current sequence: (B,T+1)\n",
    "      idx = torch.cat((idx,idx_next),dim=1)\n",
    "    return idx\n",
    "\n",
    "'''\n",
    "  Depending on your resources, you can change the parameters\n",
    "'''\n",
    "\n",
    "'''\n",
    "#SMALL RESOURCES CONFIGURATION\n",
    "n_embedding_dimension = 32\n",
    "number_of_heads = 4\n",
    "block_size = 256\n",
    "number_layers = 4\n",
    "learning_rate = 1e-3\n",
    "'''\n",
    "n_embedding_dimension = 384\n",
    "number_of_heads = 6  \n",
    "block_size = 256  # Reduced from 256\n",
    "number_layers = 4  \n",
    "learning_rate = 1e-3\n",
    "vocab_size = 65  # Adjust based on your dataset\n",
    "\n",
    "#define the model\n",
    "xb, yb = xb.to(device), yb.to(device)\n",
    "baseline_model = BigramLanguageModel(vocab_size,n_embedding_dimension,number_of_heads).to(device)\n",
    "logits,loss = baseline_model(xb,yb)\n",
    "print(logits.shape)\n",
    "print(loss)\n",
    "\n",
    "#try to generate some data\n",
    "print(decode(baseline_model.generate(idx=torch.zeros((1,1),dtype=torch.long, device=device),\n",
    "                                     max_new_tokens=100)[0].tolist()))"
   ]
  },
  {
   "cell_type": "code",
   "execution_count": null,
   "metadata": {
    "execution": {
     "iopub.status.busy": "2025-02-09T07:45:01.313928Z",
     "iopub.status.idle": "2025-02-09T07:45:01.314215Z",
     "shell.execute_reply": "2025-02-09T07:45:01.314071Z"
    },
    "id": "1_8LrxczuOIU"
   },
   "outputs": [],
   "source": [
    "xb.shape"
   ]
  },
  {
   "cell_type": "code",
   "execution_count": null,
   "metadata": {
    "execution": {
     "iopub.execute_input": "2025-02-09T07:56:07.106257Z",
     "iopub.status.busy": "2025-02-09T07:56:07.105836Z",
     "iopub.status.idle": "2025-02-09T07:56:07.112481Z",
     "shell.execute_reply": "2025-02-09T07:56:07.111539Z",
     "shell.execute_reply.started": "2025-02-09T07:56:07.106223Z"
    },
    "id": "UhTFiuoG1STY"
   },
   "outputs": [],
   "source": [
    "#define some hyper-parameters\n",
    "optimizer = torch.optim.AdamW(baseline_model.parameters(),learning_rate)\n",
    "batch_size  = 64 #can try 64/128\n",
    "epochs = 5000"
   ]
  },
  {
   "cell_type": "code",
   "execution_count": null,
   "metadata": {
    "execution": {
     "iopub.execute_input": "2025-02-09T07:56:09.736857Z",
     "iopub.status.busy": "2025-02-09T07:56:09.736558Z",
     "iopub.status.idle": "2025-02-09T08:11:48.887557Z",
     "shell.execute_reply": "2025-02-09T08:11:48.886628Z",
     "shell.execute_reply.started": "2025-02-09T07:56:09.736835Z"
    },
    "id": "TO8P5qPb1hdC",
    "outputId": "428543f4-c2b8-4517-a585-14fe3a8fbcd9"
   },
   "outputs": [
    {
     "name": "stdout",
     "output_type": "stream",
     "text": [
      "1.060608983039856\n"
     ]
    }
   ],
   "source": [
    "#define some training loop to test our ideas\n",
    "for epoch in range(epochs):\n",
    "  #obtain a batch from our data\n",
    "  xb,yb = get_batch('train',batch_size,block_size)\n",
    "  xb,yb = xb.to(device),yb.to(device)\n",
    "  #evaluate the loss\n",
    "  logits, loss =  baseline_model(xb,yb)\n",
    "  optimizer.zero_grad(set_to_none=True)\n",
    "  loss.backward()\n",
    "  optimizer.step()\n",
    "print(loss.item())"
   ]
  },
  {
   "cell_type": "code",
   "execution_count": null,
   "metadata": {
    "colab": {
     "base_uri": "https://localhost:8080/"
    },
    "execution": {
     "iopub.execute_input": "2025-02-09T08:12:13.118641Z",
     "iopub.status.busy": "2025-02-09T08:12:13.118342Z",
     "iopub.status.idle": "2025-02-09T08:12:18.400565Z",
     "shell.execute_reply": "2025-02-09T08:12:18.399755Z",
     "shell.execute_reply.started": "2025-02-09T08:12:13.118618Z"
    },
    "id": "vKLIi9AZ1wqv",
    "outputId": "ad48e41c-7e63-49cb-f8b7-680fe464a439"
   },
   "outputs": [
    {
     "name": "stdout",
     "output_type": "stream",
     "text": [
      "\n",
      "Dost thou port it please and all greet,\n",
      "on tide I denied thee for twenty times drawn.\n",
      "\n",
      "LUCIO:\n",
      "But, fair dreadful; may give I may prick haof.\n",
      "\n",
      "CAMILLO:\n",
      "I do protector must be you, fellow a rest--cord savant\n",
      "Mib trust as you for the grace!\n",
      "\n",
      "CLEOMENES:\n",
      "Pread not Claudio well changed it the\n",
      "Which breath not rung his work and his head,\n",
      "Upon his knowledge him what is his land.\n",
      "\n",
      "Second Musicing learned doth burn him;\n",
      "And gracious fanad did that my colour look\n",
      "Which grief you hither: nay, come, my son,\n",
      "\n"
     ]
    }
   ],
   "source": [
    "#after a fast training, let's try the text generator feature\n",
    "print(decode(baseline_model.generate(idx=torch.zeros((1,1),dtype=torch.long,device=device),\n",
    "                                     max_new_tokens=500)[0].tolist()))"
   ]
  },
  {
   "cell_type": "markdown",
   "metadata": {
    "id": "0VSLbp6Achj7"
   },
   "source": [
    "## 7.Save the weights of the model"
   ]
  },
  {
   "cell_type": "code",
   "execution_count": null,
   "metadata": {
    "colab": {
     "base_uri": "https://localhost:8080/"
    },
    "execution": {
     "iopub.execute_input": "2025-02-09T08:12:27.548993Z",
     "iopub.status.busy": "2025-02-09T08:12:27.548680Z",
     "iopub.status.idle": "2025-02-09T08:12:27.617241Z",
     "shell.execute_reply": "2025-02-09T08:12:27.616550Z",
     "shell.execute_reply.started": "2025-02-09T08:12:27.548969Z"
    },
    "id": "CoR6W2xGaIV3",
    "outputId": "c33273e4-7fbc-4443-906a-aabac22a6ab7"
   },
   "outputs": [
    {
     "name": "stdout",
     "output_type": "stream",
     "text": [
      "Model weights saved at: /kaggle/working/baseline_model.pth\n"
     ]
    }
   ],
   "source": [
    "# Save model weights\n",
    "model_save_path = \"/kaggle/working/baseline_model.pth\"\n",
    "\n",
    "# Save only the state_dict (recommended)\n",
    "torch.save(baseline_model.state_dict(), model_save_path)\n",
    "\n",
    "print(f\"Model weights saved at: {model_save_path}\")#print(\"Model weights saved successfully!\")"
   ]
  },
  {
   "cell_type": "markdown",
   "metadata": {
    "id": "qmIU7C-wdybB"
   },
   "source": [
    "## 8.Conclusions"
   ]
  },
  {
   "cell_type": "markdown",
   "metadata": {
    "id": "SRerBi9Bd3JX"
   },
   "source": [
    "In this notebook, we implemented a Decoder-based model to generate text from a given .txt file. The key components of our implementation included token embedding, positional encoding, multi-head self-attention, and feedforward layers, which together form the foundation of transformer-based text generation.\n",
    "\n",
    "We also explored the self-attention mechanism, which allows the model to dynamically weigh different parts of the input sequence to capture long-range dependencies. Unlike traditional sequence models such as RNNs, self-attention enables efficient parallelization and better context modeling, leading to more coherent text generation.\n",
    "\n",
    "Future Improvements:\n",
    "- Fine-tuning on domain-specific text for specialized text generation.\n",
    "- Exploring larger context windows to enhance coherence in long-form text.\n",
    "- Since we have learned the basics of the transformer architecture, we can try to implement variations to the architecture, or try to implement variations in other domains like vision transformer."
   ]
  }
 ],
 "metadata": {
  "colab": {
   "provenance": []
  },
  "kaggle": {
   "accelerator": "gpu",
   "dataSources": [],
   "isGpuEnabled": true,
   "isInternetEnabled": true,
   "language": "python",
   "sourceType": "notebook"
  },
  "kernelspec": {
   "display_name": "Python 3 (ipykernel)",
   "language": "python",
   "name": "python3"
  },
  "language_info": {
   "codemirror_mode": {
    "name": "ipython",
    "version": 3
   },
   "file_extension": ".py",
   "mimetype": "text/x-python",
   "name": "python",
   "nbconvert_exporter": "python",
   "pygments_lexer": "ipython3",
   "version": "3.9.13"
  }
 },
 "nbformat": 4,
 "nbformat_minor": 1
}
